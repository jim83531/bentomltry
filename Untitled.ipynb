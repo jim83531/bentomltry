{
 "cells": [
  {
   "cell_type": "code",
   "execution_count": 19,
   "id": "edcdc34d-24f1-40e3-9d74-7376a4f15e1b",
   "metadata": {},
   "outputs": [],
   "source": [
    "import numpy as np\n",
    "import pandas as pd\n",
    "import requests\n",
    "import time\n",
    "import asyncio"
   ]
  },
  {
   "cell_type": "code",
   "execution_count": 20,
   "id": "c8635d9a-f16d-4a43-835d-1fc26c4f8573",
   "metadata": {},
   "outputs": [],
   "source": [
    "data = pd.read_csv(\"request.csv\", index_col=0)"
   ]
  },
  {
   "cell_type": "code",
   "execution_count": 21,
   "id": "3b204dd1-9313-40c9-99da-899ad66c4587",
   "metadata": {},
   "outputs": [
    {
     "name": "stdout",
     "output_type": "stream",
     "text": [
      "Send a request at 7.033348083496094e-05 seconds.\n",
      "['[{\"class\":false,\"Proba_False\":0.9998822808,\"Proba_True\":0.0001177356}]']\n",
      "Receive a response at 0.023435115814208984 seconds.\n",
      "Send a request at 0.023460865020751953 seconds.\n",
      "['[{\"class\":false,\"Proba_False\":0.9999315739,\"Proba_True\":0.0000684094}]']\n",
      "Receive a response at 0.03706550598144531 seconds.\n",
      "Send a request at 0.037276268005371094 seconds.\n",
      "['[{\"class\":false,\"Proba_False\":0.9998797178,\"Proba_True\":0.0001202931}]']\n",
      "Receive a response at 0.04976487159729004 seconds.\n",
      "Send a request at 0.0497899055480957 seconds.\n",
      "['[{\"class\":false,\"Proba_False\":0.999900043,\"Proba_True\":0.00009993}]']\n",
      "Receive a response at 0.0635673999786377 seconds.\n",
      "Send a request at 0.06359362602233887 seconds.\n",
      "['[{\"class\":false,\"Proba_False\":0.9999113679,\"Proba_True\":0.0000886209}]']\n",
      "Receive a response at 0.07668685913085938 seconds.\n",
      "Send a request at 0.0769033432006836 seconds.\n",
      "['[{\"class\":false,\"Proba_False\":0.9983655214,\"Proba_True\":0.0016344673}]']\n",
      "Receive a response at 0.09022665023803711 seconds.\n",
      "Send a request at 0.09025216102600098 seconds.\n",
      "['[{\"class\":false,\"Proba_False\":0.9988758564,\"Proba_True\":0.001124119}]']\n",
      "Receive a response at 0.10266327857971191 seconds.\n",
      "Send a request at 0.102691650390625 seconds.\n",
      "['[{\"class\":false,\"Proba_False\":0.999907136,\"Proba_True\":0.0000928857}]']\n",
      "Receive a response at 0.11581110954284668 seconds.\n",
      "Send a request at 0.11623835563659668 seconds.\n",
      "['[{\"class\":false,\"Proba_False\":0.9781665206,\"Proba_True\":0.0218334645}]']\n",
      "Receive a response at 0.12863755226135254 seconds.\n",
      "Send a request at 0.12866902351379395 seconds.\n",
      "['[{\"class\":false,\"Proba_False\":0.9984018207,\"Proba_True\":0.0015981543}]']\n",
      "Receive a response at 0.1420764923095703 seconds.\n"
     ]
    }
   ],
   "source": [
    "start_time = time.time()\n",
    "for i in range(10):\n",
    "    t = time.time()\n",
    "    print(\"Send a request at\",t-start_time,\"seconds.\")\n",
    "    response = requests.post(\"http://localhost:5000/predict\", json = data[data.index==i].values.tolist())\n",
    "    print(response.json())\n",
    "    t = time.time()\n",
    "    print(\"Receive a response at\",t-start_time,\"seconds.\")"
   ]
  },
  {
   "cell_type": "code",
   "execution_count": null,
   "id": "29f79053-95e6-4075-92ef-a8fd6609c66b",
   "metadata": {},
   "outputs": [],
   "source": [
    "loop = asyncio.get_event_loop()\n",
    "\n",
    "def post_data(data):\n",
    "    response = requests.post(\"http://localhost:5000/predict\", json = data)\n",
    "    print(response.json())\n",
    "\n",
    "async def send_req(data):\n",
    "    t = time.time()\n",
    "    print(\"Send a request at\",t-start_time,\"seconds.\")\n",
    "    res = await loop.run_in_executor(None, post_data(data))\n",
    "    t = time.time()\n",
    "    print(\"Receive a response at\",t-start_time,\"seconds.\")\n",
    "    \n",
    "def asy_main():\n",
    "    tasks=[]\n",
    "    for i in range(10):\n",
    "        task = loop.create_task(send_req(data[data.index==i].values.tolist()))\n",
    "        tasks.append(task)\n",
    "    loop.run_until_complete(asyncio.wait(tasks))"
   ]
  },
  {
   "cell_type": "code",
   "execution_count": null,
   "id": "119f8b73-0ab2-4e7a-b730-2289d2f5ed73",
   "metadata": {},
   "outputs": [],
   "source": [
    "start_time = time.time()\n",
    "asy_main()"
   ]
  },
  {
   "cell_type": "code",
   "execution_count": null,
   "id": "c238cfa0-b817-4e4d-bfd2-83fe169a8f9e",
   "metadata": {},
   "outputs": [],
   "source": [
    "import os\n",
    "file_path = os.path.join(os.path.dirname(os.path.abspath(\"__file__\")), \"request.csv\")\n",
    "print(a)\n",
    "data = pd.read_csv(a, index_col=0)"
   ]
  },
  {
   "cell_type": "code",
   "execution_count": null,
   "id": "648b41a2-0380-4ec3-bba5-d5cc2ab289c6",
   "metadata": {},
   "outputs": [],
   "source": [
    "response = requests.get(\"http://0.0.0.0:5000\")\n",
    "print(type(response))\n",
    "print(type(response.text))\n",
    "print(type(response.json()))"
   ]
  },
  {
   "cell_type": "code",
   "execution_count": null,
   "id": "a56378a4-f5e7-4093-9094-f8a7f3a334fd",
   "metadata": {},
   "outputs": [],
   "source": [
    "# %%writefile asy_try.py\n",
    "import os\n",
    "import numpy as np\n",
    "import pandas as pd\n",
    "import requests\n",
    "import time\n",
    "import asyncio\n",
    "\n",
    "file_path = os.path.join(os.path.dirname(os.path.abspath(\"__file__\")), \"request.csv\")\n",
    "data = pd.read_csv(file_path, index_col=0)\n",
    "loop = asyncio.get_event_loop()\n",
    "\n",
    "url = \"http://0.0.0.0:5000/predict\"\n",
    "\n",
    "async def send_req(d):\n",
    "    t = time.time()\n",
    "    print(\"Send a request at\",t-start_time,\"seconds.\")\n",
    "    res = await loop.run_in_executor(None, requests.post,url=rul,json=d)\n",
    "    t = time.time()\n",
    "    print(\"Receive a response at\",t-start_time,\"seconds.\")\n",
    "    \n",
    "def asy_main():\n",
    "    tasks=[]\n",
    "    for i in range(10):\n",
    "        task = loop.create_task(send_req(data[data.index==i].values.tolist()))\n",
    "        tasks.append(task)\n",
    "#     loop.run_until_complete(asyncio.wait(tasks))\n",
    "    \n",
    "start_time = time.time()\n",
    "asy_main()"
   ]
  },
  {
   "cell_type": "code",
   "execution_count": null,
   "id": "18ab6c31-5341-4959-8050-575d3c9b7a59",
   "metadata": {},
   "outputs": [],
   "source": []
  },
  {
   "cell_type": "code",
   "execution_count": 27,
   "id": "23321d64-977b-4f07-bcc4-c08b6adb1c62",
   "metadata": {},
   "outputs": [],
   "source": [
    "import os\n",
    "file_path = os.path.join(os.path.dirname(os.path.abspath(\"__file__\")), \"request.csv\")\n",
    "data = pd.read_csv(file_path, index_col=0)\n",
    "data_j = data.values.tolist()"
   ]
  },
  {
   "cell_type": "code",
   "execution_count": 29,
   "id": "8c3042e8-81bd-436b-ac69-9c8fef166649",
   "metadata": {},
   "outputs": [
    {
     "name": "stdout",
     "output_type": "stream",
     "text": [
      "[3.0, 152.0, -0.9488973879078852, 75.0, 0.0, 2.0, -1.0, -0.9998064995332768, 8.0, -0.9999973001138868, -0.9578947368421052, 1266.0, 0.0, 0.0, -0.9875432525951556, -0.8173302107728337, 6.0, 1.0, 0.0, 4.0, -1.0, -1.0]\n",
      "[25.0, 167.0, -0.9340467084384408, 1859.0, 0.0, 2.0, -1.0, -0.9834499600813036, 3.0, -0.9999971524049348, 0.031578947368421, 1157.0, 0.0, 0.0, -0.9903114186851212, -0.8173302107728337, 7.0, 1.0, 0.0, 4.0, -1.0, -1.0]\n",
      "[5.0, 167.0, -0.9340467084384408, 1469.0, 0.0, 72.0, -1.0, -0.999834499600813, 3.0, -0.9999972376968084, 0.031578947368421, 798.0, 0.0, 0.0, -0.9806228373702424, -0.7985948477751756, 7.0, 1.0, 0.0, 4.0, -1.0, -1.0]\n",
      "[3.0, 167.0, -0.9340467084384408, 75.0, 0.0, 0.0, -1.0, -0.9986759968065044, 8.0, -0.9999973031892058, 0.031578947368421, 1157.0, 0.0, 0.0, -0.9916955017301038, -0.8149882903981265, 6.0, 1.0, 0.0, 4.0, -1.0, -1.0]\n",
      "[25.0, 72.0, -0.8910407681666531, 1859.0, 0.0, 2.0, -1.0, -0.999932199836466, 3.0, -0.9999973022431912, -0.7263157894736842, 1266.0, 0.0, 0.0, -0.9875432525951556, -0.8173302107728337, 6.0, 1.0, 0.0, 4.0, -1.0, -1.0]\n",
      "[46.0, 36.0, -0.7477825697778502, 742.0, 1.0, 0.0, -1.0, -0.9987533969931937, 3.0, -0.9999972980814308, -0.7684210526315789, 1266.0, 0.0, 0.0, -0.9806228373702424, -0.8173302107728337, 6.0, 1.0, 0.0, 4.0, -1.0, -1.0]\n",
      "[25.0, 36.0, -0.7477825697778502, 1859.0, 0.0, 0.0, -1.0, -0.9996883492482984, 1.0, -0.9999973034517388, -0.7684210526315789, 1157.0, 0.0, 0.0, -0.9916955017301038, -0.8149882903981265, 6.0, 1.0, 0.0, 4.0, -1.0, -1.0]\n",
      "[3.0, 167.0, -0.9340467084384408, 75.0, 0.0, 2.0, -1.0, -0.9983449960081304, 3.0, -0.9999973033193132, 0.031578947368421, 1266.0, 0.0, 0.0, -0.9875432525951556, -0.8173302107728337, 6.0, 1.0, 0.0, 4.0, -1.0, -1.0]\n",
      "[32.0, 152.0, -0.9488973879078852, 1709.0, 1.0, 2.0, -1.0, -0.9997419993777024, 3.0, -0.9999973012600653, -0.9578947368421052, 1157.0, 0.0, 0.0, -0.4325259515570934, -0.8173302107728337, 10.0, 1.0, 0.0, 4.0, -1.0, -1.0]\n",
      "[32.0, 36.0, -0.7477825697778502, 1709.0, 1.0, 0.0, -1.0, -0.9985414744820366, 8.0, -0.9999971078541132, -0.7684210526315789, 1266.0, 0.0, 0.0, -0.9072664359861592, -0.8173302107728337, 6.0, 1.0, 0.0, 4.0, -1.0, -1.0]\n"
     ]
    }
   ],
   "source": [
    "for i in range(len(data_j)):\n",
    "    print(data_j[i])"
   ]
  },
  {
   "cell_type": "code",
   "execution_count": null,
   "id": "5031777e-7203-4d01-987a-7509b70d5988",
   "metadata": {},
   "outputs": [],
   "source": []
  },
  {
   "cell_type": "code",
   "execution_count": 38,
   "id": "899e96cb-53dd-47b2-b3a5-96307f989bfc",
   "metadata": {},
   "outputs": [
    {
     "name": "stdout",
     "output_type": "stream",
     "text": [
      "Overwriting asy.py\n"
     ]
    }
   ],
   "source": [
    "%%writefile asy.py\n",
    "import asyncio\n",
    "import requests\n",
    "import pandas as pd\n",
    "import os\n",
    "import time\n",
    "from concurrent.futures import ThreadPoolExecutor\n",
    "file_path = os.path.join(os.path.dirname(os.path.abspath(__file__)), \"request.csv\")\n",
    "data = pd.read_csv(file_path, index_col=0)\n",
    "# b = data.head(1).values.tolist()\n",
    "loop = asyncio.get_event_loop()\n",
    "executor = ThreadPoolExecutor(max_workers=2)\n",
    "def req_post(b):\n",
    "    print(b)\n",
    "    t = time.time()\n",
    "    print(\"Send a request at\",t-start_time,\"seconds.\")\n",
    "    response = requests.post(\"http://localhost:5000/predict\", json=data[data.index==b].values.tolist())\n",
    "    return response\n",
    "\n",
    "async def foo(b):\n",
    "#     print(b)\n",
    "    res = await loop.run_in_executor(executor, req_post, b)\n",
    "    t = time.time()\n",
    "    print(\"Receive a response at\",t-start_time,\"seconds.\")\n",
    "    return res.json()\n",
    "\n",
    "def got_result(future):\n",
    "    print(future.result())\n",
    "\n",
    "# async def hello_world():\n",
    "tasks=[]\n",
    "for i in range(10):\n",
    "    task = loop.create_task(foo(i))\n",
    "    task.add_done_callback(got_result)\n",
    "    tasks.append(task)\n",
    "start_time = time.time()\n",
    "loop.run_until_complete(asyncio.wait(tasks))"
   ]
  },
  {
   "cell_type": "code",
   "execution_count": 41,
   "id": "8a78f161-afb1-4c18-8c7d-578d8645465b",
   "metadata": {},
   "outputs": [
    {
     "name": "stdout",
     "output_type": "stream",
     "text": [
      "Overwriting asy_concur.py\n"
     ]
    }
   ],
   "source": [
    "%%writefile asy_concur.py\n",
    "import requests\n",
    "import pandas as pd\n",
    "import os\n",
    "import time\n",
    "import concurrent\n",
    "from concurrent.futures import ThreadPoolExecutor\n",
    "\n",
    "file_path = os.path.join(os.path.dirname(os.path.abspath(__file__)), \"request.csv\")\n",
    "data = pd.read_csv(file_path, index_col=0)\n",
    "data_j = data.values.tolist()\n",
    "with ThreadPoolExecutor(max_workers=5) as executor:\n",
    "    start_time=time.time()\n",
    "    futures = []\n",
    "    for i in range(len(data_j)):\n",
    "#         t = time.time()\n",
    "#         print(\"Send a request at\",t-start_time,\"seconds.\")\n",
    "        futures.append(executor.submit(requests.post, url=\"http://localhost:5000/predict\", json = [data_j[i]]))\n",
    "#         t = time.time()\n",
    "#         print(\"Receive a request at\",t-start_time,\"seconds.\")\n",
    "    for future in concurrent.futures.as_completed(futures):\n",
    "        print(future.exception())"
   ]
  },
  {
   "cell_type": "code",
   "execution_count": null,
   "id": "94ba59f8-15ea-48cc-b0f8-767a00481434",
   "metadata": {},
   "outputs": [],
   "source": []
  }
 ],
 "metadata": {
  "kernelspec": {
   "display_name": "Python 3",
   "language": "python",
   "name": "python3"
  },
  "language_info": {
   "codemirror_mode": {
    "name": "ipython",
    "version": 3
   },
   "file_extension": ".py",
   "mimetype": "text/x-python",
   "name": "python",
   "nbconvert_exporter": "python",
   "pygments_lexer": "ipython3",
   "version": "3.8.8"
  }
 },
 "nbformat": 4,
 "nbformat_minor": 5
}
